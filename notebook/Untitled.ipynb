{
 "cells": [
  {
   "cell_type": "code",
   "execution_count": 1,
   "metadata": {},
   "outputs": [],
   "source": [
    "%cd ../"
   ]
  },
  {
   "cell_type": "code",
   "execution_count": 2,
   "metadata": {},
   "outputs": [
    {
     "name": "stderr",
     "output_type": "stream",
     "text": [
      "RDKit WARNING: [19:48:14] Enabling RDKit 2019.09.3 jupyter extensions\n"
     ]
    },
    {
     "ename": "AttributeError",
     "evalue": "'NoneType' object has no attribute 'pandas'",
     "output_type": "error",
     "traceback": [
      "\u001b[1;31m---------------------------------------------------------------------------\u001b[0m",
      "\u001b[1;31mAttributeError\u001b[0m                            Traceback (most recent call last)",
      "\u001b[1;32m~\\Documents\\work\\Descriptors\\Descroptor.py\u001b[0m in \u001b[0;36m<module>\u001b[1;34m\u001b[0m\n\u001b[0;32m     51\u001b[0m \u001b[1;33m\u001b[0m\u001b[0m\n\u001b[0;32m     52\u001b[0m     \u001b[0mmol_list\u001b[0m\u001b[1;33m,\u001b[0m \u001b[0msmiles_list\u001b[0m\u001b[1;33m,\u001b[0m \u001b[0mindex_list\u001b[0m \u001b[1;33m=\u001b[0m \u001b[0mload_sdf\u001b[0m\u001b[1;33m(\u001b[0m\u001b[0margs\u001b[0m\u001b[1;33m.\u001b[0m\u001b[0msdf_path\u001b[0m\u001b[1;33m)\u001b[0m\u001b[1;33m\u001b[0m\u001b[1;33m\u001b[0m\u001b[0m\n\u001b[1;32m---> 53\u001b[1;33m     \u001b[0mdf_dsc\u001b[0m \u001b[1;33m=\u001b[0m \u001b[0mcalculation\u001b[0m\u001b[1;33m(\u001b[0m\u001b[0mmol_list\u001b[0m\u001b[1;33m,\u001b[0m \u001b[0msmiles_list\u001b[0m\u001b[1;33m,\u001b[0m \u001b[0mindex_list\u001b[0m\u001b[1;33m,\u001b[0m \u001b[0margs\u001b[0m\u001b[1;33m.\u001b[0m\u001b[0ma\u001b[0m\u001b[1;33m)\u001b[0m\u001b[1;33m\u001b[0m\u001b[1;33m\u001b[0m\u001b[0m\n\u001b[0m\u001b[0;32m     54\u001b[0m     \u001b[0mdf_dsc\u001b[0m\u001b[1;33m.\u001b[0m\u001b[0mto_csv\u001b[0m\u001b[1;33m(\u001b[0m\u001b[0margs\u001b[0m\u001b[1;33m.\u001b[0m\u001b[0mcsv_path\u001b[0m\u001b[1;33m)\u001b[0m\u001b[1;33m\u001b[0m\u001b[1;33m\u001b[0m\u001b[0m\n\u001b[0;32m     55\u001b[0m     \u001b[0mprint\u001b[0m\u001b[1;33m(\u001b[0m\u001b[1;34m'Columns size: '\u001b[0m\u001b[1;33m,\u001b[0m \u001b[0mlen\u001b[0m\u001b[1;33m(\u001b[0m\u001b[0mdf_dsc\u001b[0m\u001b[1;33m.\u001b[0m\u001b[0mcolumns\u001b[0m\u001b[1;33m)\u001b[0m\u001b[1;33m)\u001b[0m\u001b[1;33m\u001b[0m\u001b[1;33m\u001b[0m\u001b[0m\n",
      "\u001b[1;32m~\\Documents\\work\\Descriptors\\Descroptor.py\u001b[0m in \u001b[0;36mcalculation\u001b[1;34m(mol_list, smiles_list, index_list, dsc_type)\u001b[0m\n\u001b[0;32m     30\u001b[0m \u001b[1;32mdef\u001b[0m \u001b[0mcalculation\u001b[0m\u001b[1;33m(\u001b[0m\u001b[0mmol_list\u001b[0m\u001b[1;33m,\u001b[0m \u001b[0msmiles_list\u001b[0m\u001b[1;33m,\u001b[0m \u001b[0mindex_list\u001b[0m\u001b[1;33m,\u001b[0m \u001b[0mdsc_type\u001b[0m\u001b[1;33m)\u001b[0m\u001b[1;33m:\u001b[0m\u001b[1;33m\u001b[0m\u001b[1;33m\u001b[0m\u001b[0m\n\u001b[0;32m     31\u001b[0m     \u001b[0mcalc\u001b[0m \u001b[1;33m=\u001b[0m \u001b[0mgenerate_calculater\u001b[0m\u001b[1;33m(\u001b[0m\u001b[0mdsc_type\u001b[0m\u001b[1;33m)\u001b[0m\u001b[1;33m\u001b[0m\u001b[1;33m\u001b[0m\u001b[0m\n\u001b[1;32m---> 32\u001b[1;33m     \u001b[0mdf\u001b[0m \u001b[1;33m=\u001b[0m \u001b[0mcalc\u001b[0m\u001b[1;33m.\u001b[0m\u001b[0mpandas\u001b[0m\u001b[1;33m(\u001b[0m\u001b[0mmol_list\u001b[0m\u001b[1;33m)\u001b[0m\u001b[1;33m\u001b[0m\u001b[1;33m\u001b[0m\u001b[0m\n\u001b[0m\u001b[0;32m     33\u001b[0m     \u001b[0mdf\u001b[0m \u001b[1;33m=\u001b[0m \u001b[0mdf\u001b[0m\u001b[1;33m.\u001b[0m\u001b[0mastype\u001b[0m\u001b[1;33m(\u001b[0m\u001b[0mstr\u001b[0m\u001b[1;33m)\u001b[0m\u001b[1;33m\u001b[0m\u001b[1;33m\u001b[0m\u001b[0m\n\u001b[0;32m     34\u001b[0m     masks = df.apply(\n",
      "\u001b[1;31mAttributeError\u001b[0m: 'NoneType' object has no attribute 'pandas'"
     ]
    }
   ],
   "source": [
    "%run -i Descroptor.py ./sdf/blined_humancl_95_test_1482.sdf test.csv 0"
   ]
  },
  {
   "cell_type": "code",
   "execution_count": 5,
   "metadata": {},
   "outputs": [
    {
     "name": "stderr",
     "output_type": "stream",
     "text": [
      " 17%|█████████████▉                                                                    | 16/94 [00:03<00:51,  1.51it/s]"
     ]
    },
    {
     "name": "stdout",
     "output_type": "stream",
     "text": [
      "c:\\users\\kotak\\miniconda3\\envs\\ml\\lib\\site-packages\\numpy\\core\\fromnumeric.py:90: RuntimeWarning: overflow encountered in reduce\n",
      "  return ufunc.reduce(obj, axis, dtype, out, **passkwargs)\n"
     ]
    },
    {
     "name": "stderr",
     "output_type": "stream",
     "text": [
      "100%|██████████████████████████████████████████████████████████████████████████████████| 94/94 [00:14<00:00,  6.28it/s]\n"
     ]
    },
    {
     "name": "stdout",
     "output_type": "stream",
     "text": [
      "Columns size:  1614\n"
     ]
    }
   ],
   "source": [
    "from rdkit import Chem\n",
    "from mordred import descriptors, Calculator\n",
    "import argparse\n",
    "\n",
    "params = {\n",
    "    'sdf_path': '../sdf/blined_humancl_95_test_1482.sdf',\n",
    "    'csv_path' : '../test.csv',\n",
    "    'descriptor_type': '2D'　# if '3D': calcurate 2D and 3D descriptors, elif '2D': calcurate 2D descriptors\n",
    "}\n",
    "\n",
    "def load_sdf(sdf_path):\n",
    "    suppl = Chem.SDMolSupplier(sdf_path)\n",
    "    smiles_list = []\n",
    "    index_list = []\n",
    "    mol_list = []\n",
    "    for i in range(len(suppl)):\n",
    "        mol = suppl[i]\n",
    "        if mol is not None:\n",
    "            smiles = Chem.MolToSmiles(mol)\n",
    "            smiles_list.append(smiles)\n",
    "            index_list.append(i)\n",
    "            mol_list.append(mol)\n",
    "    return mol_list, smiles_list, index_list,\n",
    "\n",
    "\n",
    "def calculation(mol_list, smiles_list, index_list, descriptor_type):\n",
    "    if descriptor_type == '2D':\n",
    "        calc = Calculator(descriptors, ignore_3D=True)\n",
    "    elif dsctype == '3D':\n",
    "        calc = Calculator(descriptors)\n",
    "    df = calc.pandas(mol_list)\n",
    "    df = df.astype(str)\n",
    "    masks = df.apply(\n",
    "        lambda d: d.str.contains('[a-zA-Z]', na=False))\n",
    "    df = df[~masks]\n",
    "    df = df.astype(float)\n",
    "    # reset index\n",
    "    df['SMILES'] = smiles_list\n",
    "    df['index'] = index_list\n",
    "    df = df.set_index('index')\n",
    "    return df\n",
    "\n",
    "mol_list, smiles_list, index_list = load_sdf(params['sdf_path'])\n",
    "df_dsc = calculation(mol_list, smiles_list, index_list, params['descriptor_type'])\n",
    "df_dsc.to_csv(params['csv_path'])\n",
    "print('Columns size: ', len(df_dsc.columns))"
   ]
  },
  {
   "cell_type": "code",
   "execution_count": null,
   "metadata": {},
   "outputs": [],
   "source": []
  }
 ],
 "metadata": {
  "kernelspec": {
   "display_name": "Python 3",
   "language": "python",
   "name": "python3"
  },
  "language_info": {
   "codemirror_mode": {
    "name": "ipython",
    "version": 3
   },
   "file_extension": ".py",
   "mimetype": "text/x-python",
   "name": "python",
   "nbconvert_exporter": "python",
   "pygments_lexer": "ipython3",
   "version": "3.6.10"
  }
 },
 "nbformat": 4,
 "nbformat_minor": 4
}
